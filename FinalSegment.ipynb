{
 "cells": [
  {
   "cell_type": "markdown",
   "metadata": {},
   "source": [
    "# Importing Libraries"
   ]
  },
  {
   "cell_type": "code",
   "execution_count": 1,
   "metadata": {},
   "outputs": [],
   "source": [
    "import cv2\n",
    "import math\n",
    "import numpy as np\n",
    "import matplotlib\n",
    "import matplotlib.image as mpimg\n",
    "from PIL import Image as im\n",
    "from scipy.ndimage import interpolation as inter\n",
    "from scipy import stats\n",
    "import os\n",
    "import shutil\n",
    "import matplotlib.pyplot as plt\n",
    "import sys"
   ]
  },
  {
   "cell_type": "markdown",
   "metadata": {},
   "source": [
    "# Code for Segementation to word Level"
   ]
  },
  {
   "cell_type": "code",
   "execution_count": 2,
   "metadata": {},
   "outputs": [],
   "source": [
    "# Function to remove background texture --- Will work if texture is comparatively light as compared to text\n",
    "def bg_filter(image):\n",
    "    color_select = np.copy(image)\n",
    "\n",
    "    # defining color criteria\n",
    "    val = 250\n",
    "    red_threshold = val\n",
    "    green_threshold = val\n",
    "    blue_threshold = val\n",
    "    rgb_threshold = [red_threshold, green_threshold, blue_threshold]\n",
    "\n",
    "    # identify pixels above threshold\n",
    "    thresholds = (image[:, :, 0] > rgb_threshold[0]) | (image[:, :, 1] > rgb_threshold[1]) | (image[:, :, 2] > rgb_threshold[2])\n",
    "    color_select[thresholds] = [255, 255, 255]\n",
    "\n",
    "    return cv2.cvtColor(np.array(color_select), cv2.COLOR_RGB2BGR)\n",
    "\n",
    "def pad_image(img,val):\n",
    "    if(len(img.shape)==2):\n",
    "        return cv2.copyMakeBorder(img,2,2,2,2,cv2.BORDER_CONSTANT,value=val)\n",
    "    elif(len(img.shape)==3):\n",
    "        return cv2.copyMakeBorder(img,2,2,2,2,cv2.BORDER_REPLICATE)\n",
    "\n",
    "\n",
    "# Function to create binary image\n",
    "def img2binary(image):\n",
    "    color_select = np.copy(image)\n",
    "    (thresh, im_bw) = cv2.threshold(color_select, 128, 255, cv2.THRESH_BINARY_INV)\n",
    "\n",
    "    return cv2.cvtColor(np.array(im_bw), cv2.COLOR_RGB2BGR)\n",
    "\n",
    "# Function to fix skew angle if any?\n",
    "def skew_fix(image):\n",
    "    # convert to binary\n",
    "    image = im.fromarray(image)\n",
    "    wd, ht = image.size\n",
    "    pix = np.array(image.convert('1').getdata(), np.uint8)\n",
    "    bin_img = 1 - (pix.reshape((ht, wd)) / 255.0)\n",
    "\n",
    "    def find_score(arr, angle):\n",
    "        data = inter.rotate(arr, angle, reshape=False, order=0)\n",
    "        hist = np.sum(data, axis=1)\n",
    "        score = np.sum((hist[1:] - hist[:-1]) ** 2)\n",
    "        return hist, score\n",
    "\n",
    "    delta = 0.5\n",
    "    limit = 7\n",
    "    angles = np.arange(-limit, limit + delta, delta)\n",
    "    scores = []\n",
    "    for angle in angles:\n",
    "        hist, score = find_score(bin_img, angle)\n",
    "        scores.append(score)\n",
    "\n",
    "    best_score = max(scores)\n",
    "    best_angle = angles[scores.index(best_score)]\n",
    "    print(\"Best angle for skew correction:\", best_angle)\n",
    "    print()\n",
    "    # correct skew\n",
    "    data = inter.rotate(bin_img, best_angle, reshape=False, order=0)\n",
    "    img = im.fromarray((255 * data).astype(\"uint8\")).convert(\"RGB\")\n",
    "#         img.save('skew_corrected2.png')\n",
    "#         plt.imshow(img)\n",
    "#         plt.show()\n",
    "    return cv2.cvtColor(np.array(img), cv2.COLOR_RGB2BGR)\n",
    "\n",
    "# Function to seperate lines and words \n",
    "def continuousSubsequence(x,th,diff):\n",
    "    up = []\n",
    "    down =[]\n",
    "    i = 0\n",
    "    while(i<len(x)-1):\n",
    "        if(x[i] > th):\n",
    "            up.append(i)\n",
    "#             print(\"up: \" +str(i),end='\\t')\n",
    "            i = i+1\n",
    "            while(not(x[i] <= th) and i<len(x)-1):\n",
    "                i = i+1\n",
    "            down.append(i)\n",
    "#             print(\"down: \" +str(i))\n",
    "            i = i+1\n",
    "        else:\n",
    "            i = i+1\n",
    "    u = []\n",
    "    d = []\n",
    "    for i in range(0,len(up)):\n",
    "        if(down[i]-up[i]>diff):\n",
    "            u.append(up[i])\n",
    "            d.append(down[i])\n",
    "    return u,d\n",
    "\n",
    "# Main function to sepearte lines and words from image\n",
    "def img2line(image):\n",
    "\n",
    "    # TWEAK RESIZING FACTOR FOR SPACING\n",
    "    image = cv2.resize(image, (0, 0), fx=1.69, fy=1.69)\n",
    "    gray = cv2.cvtColor(image, cv2.COLOR_BGR2GRAY)\n",
    "    H,W = image.shape[0],image.shape[1]\n",
    " \n",
    "    \n",
    "    th, rotated = cv2.threshold(gray, 128, 255, cv2.THRESH_BINARY_INV | cv2.THRESH_OTSU)\n",
    "    \n",
    "    rotated = cv2.dilate(rotated, None, iterations=3)\n",
    "    rotated = cv2.erode(rotated, None, iterations=2)\n",
    "    rotated = pad_image(rotated,0)\n",
    "    \n",
    "    hist = cv2.reduce(rotated, 1, cv2.REDUCE_AVG).reshape(-1)\n",
    "#     plt.plot(hist)\n",
    "#     print(hist)\n",
    "    mode = stats.mode(hist)[0][0] \n",
    "#     print(mode)\n",
    "    upper,lower = continuousSubsequence(hist,mode,10)\n",
    "\n",
    "#     print(\"uppers:\", upper)\n",
    "#     print(\"lowers:\", lower)\n",
    "\n",
    "    diff = []\n",
    "    for k in range(0, len(upper)):\n",
    "        diff.append(lower[k] - upper[k])\n",
    "    \n",
    "    def nearestInt(x):\n",
    "        f,i = math.modf(x)\n",
    "        if(f<.6):\n",
    "            return i\n",
    "        else:\n",
    "            return i+1\n",
    "    print(\"diff:\", diff)\n",
    "    minim = min(diff)\n",
    "    for i in range(0, len(diff)):\n",
    "        diff[i] = int(nearestInt(diff[i] / minim))\n",
    "        \n",
    "    print(\"diff normalised:\", diff, \"\\n\")\n",
    "\n",
    "\n",
    "    def breakImg(up,low,n,points):\n",
    "        if(n==1):\n",
    "            return points\n",
    "        else:\n",
    "            points = points + [int(((n-1)*up + low)/n)]\n",
    "            return breakImg(int(((n-1)*up + low)/n),low,n-1,points)\n",
    "\n",
    "    up = []\n",
    "    low = []\n",
    "    for i in range(0,len(diff)):\n",
    "        if(diff[i] > 1):\n",
    "            points = breakImg(upper[i],lower[i],diff[i],[])\n",
    "            up = up + [upper[i]]\n",
    "            for j in points:\n",
    "                up = up+[j]\n",
    "                low = low + [j];\n",
    "            low = low + [lower[i]]\n",
    "        else:\n",
    "            up.append(upper[i])\n",
    "            low.append(lower[i])\n",
    "\n",
    "    print(\"up:\", up)\n",
    "    print(\"low:\", low)\n",
    "\n",
    "    \n",
    "    rotated = cv2.cvtColor(rotated, cv2.COLOR_GRAY2BGR)\n",
    "    for y in up:\n",
    "        cv2.line(rotated, (0, y), (rotated.shape[1], y), (255, 0, 0), 1)\n",
    "\n",
    "    for y in low:\n",
    "        cv2.line(rotated, (0, y), (rotated.shape[1], y), (0, 255, 0), 1)\n",
    "\n",
    "    cv2.imshow(\"result.png\", rotated)\n",
    "    cv2.waitKey(0)\n",
    "    cv2.destroyAllWindows()\n",
    "\n",
    "    def line2words(image,up,down,H,W):\n",
    "        gray = cv2.cvtColor(image, cv2.COLOR_BGR2GRAY)\n",
    "\n",
    "        # smooth the image to avoid noises\n",
    "        gray = cv2.medianBlur(gray, 5)\n",
    "\n",
    "        # Apply adaptive threshold\n",
    "        thresh = cv2.adaptiveThreshold(gray, 255, 1, 1, 11, 2)\n",
    "        thresh_color = cv2.cvtColor(thresh, cv2.COLOR_GRAY2BGR)\n",
    "\n",
    "        # apply some dilation and erosion to join the gaps\n",
    "        thresh = cv2.dilate(thresh, None, iterations=4)\n",
    "        thresh = cv2.erode(thresh, None, iterations=3)\n",
    "        thresh = pad_image(thresh,0)\n",
    "        \n",
    "        hist = cv2.reduce(thresh, 0, cv2.REDUCE_AVG).reshape(-1)\n",
    "#         plt.plot(hist)\n",
    "#         print(hist)\n",
    "        #TODO -- Need to tweak threshhold parameter\n",
    "        lefts,rights = continuousSubsequence(hist,10,15)\n",
    "\n",
    "        margin = 3\n",
    "        ls = []\n",
    "        for i in range(0,len(lefts)):\n",
    "            temp = (max(up-margin,0),min(down+margin,H-1),max(lefts[i]-margin-3,0),min(rights[i]+margin,W-1))\n",
    "            ls.append(temp)\n",
    "#             print(temp)\n",
    "        \n",
    "        return ls\n",
    "    \n",
    "    word_list = []\n",
    "    for i in range(0, len(up)):\n",
    "        sample_image =cv2.cvtColor(np.array(image[up[i]:low[i],:]), cv2.COLOR_RGB2BGR)\n",
    "        word_list = word_list+line2words(sample_image,up[i],low[i],H,W)\n",
    "        \n",
    "    return word_list"
   ]
  },
  {
   "cell_type": "markdown",
   "metadata": {},
   "source": [
    "# Driver code for getting words"
   ]
  },
  {
   "cell_type": "code",
   "execution_count": 3,
   "metadata": {
    "scrolled": true
   },
   "outputs": [
    {
     "name": "stdout",
     "output_type": "stream",
     "text": [
      "Best angle for skew correction: 0.0\n",
      "\n",
      "diff: [51, 59, 55, 49, 53, 51, 58]\n",
      "diff normalised: [1, 1, 1, 1, 1, 1, 1] \n",
      "\n",
      "up: [11, 77, 146, 221, 288, 358, 423]\n",
      "low: [62, 136, 201, 270, 341, 409, 481]\n"
     ]
    }
   ],
   "source": [
    "img = cv2.imread('./pages/text.jpg')\n",
    "# img = cv2.resize(img,(2,2))\n",
    "ori = np.copy(img)\n",
    "img = bg_filter(img)\n",
    "img = img2binary(img)\n",
    "img = skew_fix(img)\n",
    "result = img2line(img)\n",
    "# cv2.imshow(\"res\",img)\n",
    "# cv2.waitKey(0)\n",
    "# cv2.destroyAllWindows()"
   ]
  },
  {
   "cell_type": "code",
   "execution_count": 4,
   "metadata": {},
   "outputs": [],
   "source": [
    "b = (np.average(ori[0,:,0]) + np.average(ori[:,0,0]))/2\n",
    "g = (np.average(ori[0,:,1]) + np.average(ori[:,0,1]))/2\n",
    "r = (np.average(ori[0,:,2]) + np.average(ori[:,0,2]))/2\n",
    "back = [int(b),int(g),int(r)]"
   ]
  },
  {
   "cell_type": "markdown",
   "metadata": {},
   "source": [
    "# Output of Words"
   ]
  },
  {
   "cell_type": "code",
   "execution_count": 5,
   "metadata": {},
   "outputs": [],
   "source": [
    "ori = cv2.resize(ori,(0,0),fx = 1.69,fy = 1.69)"
   ]
  },
  {
   "cell_type": "code",
   "execution_count": 20,
   "metadata": {},
   "outputs": [],
   "source": [
    "copy = np.copy(ori)\n",
    "for point in result:\n",
    "    cv2.rectangle(copy,(point[2],point[0]),(point[3],point[1]),(0,255,0),2)\n",
    "cv2.imshow('res', copy)\n",
    "cv2.waitKey(0)\n",
    "cv2.destroyAllWindows()  \n",
    "#np.save(\"words\",result)"
   ]
  },
  {
   "cell_type": "code",
   "execution_count": 21,
   "metadata": {},
   "outputs": [
    {
     "data": {
      "text/plain": [
       "[184, 227, 238]"
      ]
     },
     "execution_count": 21,
     "metadata": {},
     "output_type": "execute_result"
    }
   ],
   "source": [
    "back"
   ]
  },
  {
   "cell_type": "code",
   "execution_count": null,
   "metadata": {},
   "outputs": [],
   "source": []
  },
  {
   "cell_type": "markdown",
   "metadata": {},
   "source": [
    "# Creating Words array"
   ]
  },
  {
   "cell_type": "code",
   "execution_count": 6,
   "metadata": {},
   "outputs": [],
   "source": [
    "img = cv2.resize(img,(0,0),fx = 1.69,fy = 1.69)"
   ]
  },
  {
   "cell_type": "code",
   "execution_count": 7,
   "metadata": {},
   "outputs": [],
   "source": [
    "words = [(img[point[0]:point[1],point[2]:point[3]],np.copy(ori[point[0]:point[1],point[2]:point[3]])) for point in result]\n",
    "words = [(pad_image(img[0],255),pad_image(img[1],0))for img in words]\n",
    "words = np.asarray(words)"
   ]
  },
  {
   "cell_type": "code",
   "execution_count": 8,
   "metadata": {},
   "outputs": [],
   "source": [
    "for img in words:\n",
    "    cv2.imshow(\"bw\",img[0])\n",
    "    cv2.imshow(\"ori\",img[1])\n",
    "    cv2.waitKey(0)\n",
    "    cv2.destroyAllWindows()"
   ]
  },
  {
   "cell_type": "code",
   "execution_count": null,
   "metadata": {},
   "outputs": [],
   "source": []
  },
  {
   "cell_type": "markdown",
   "metadata": {},
   "source": [
    "# Letter Level Segmentation\n",
    "#### Author: Anupam Aggarwal"
   ]
  },
  {
   "cell_type": "code",
   "execution_count": 9,
   "metadata": {},
   "outputs": [],
   "source": [
    "fSize = [0,0]"
   ]
  },
  {
   "cell_type": "code",
   "execution_count": 10,
   "metadata": {},
   "outputs": [],
   "source": [
    "def binaryImages(img):\n",
    "    gray = cv2.cvtColor(img,cv2.COLOR_BGR2GRAY)\n",
    "    th, threshed = cv2.threshold(gray, 128, 255, cv2.THRESH_BINARY_INV|cv2.THRESH_OTSU)\n",
    "    threshed_color = cv2.cvtColor(threshed,cv2.COLOR_GRAY2BGR)\n",
    "    return gray,threshed,threshed_color\n",
    "\n",
    "# Function to remove header line -- May Fail if intesity of points is max at points other than at header line\n",
    "def rmHeaderLine(threshed):\n",
    "    intensity = cv2.reduce(threshed, 1, cv2.REDUCE_AVG).reshape(-1)    \n",
    "#     plt.plot(intensity)\n",
    "#     print(intensity)\n",
    "    maxRows = [i for i in range(0,len(intensity)) if intensity[i] == np.max(intensity)]\n",
    "    pixels = 13\n",
    "    med = maxRows[len(maxRows)//2] if (len(maxRows)%2 == 1) else (maxRows[len(maxRows)//2] + maxRows[len(maxRows)//2-1])/2\n",
    "    (a,b) = (med - (pixels-1)/2,med + (pixels-1)/2)\n",
    "    \n",
    "#     print(max(math.floor(a),0),min(math.ceil(b),len(intensity)))\n",
    "    # removing header line\n",
    "    for i in range(max(math.floor(a),0),min(math.ceil(b),len(intensity))):\n",
    "        threshed[i] = np.array(0)\n",
    "    \n",
    "    return (a,b),threshed\n",
    "            \n",
    "\n",
    "def verticalSeperation(threshed,th):\n",
    "    #threshed = pad_image(threshed)\n",
    "    threshed = cv2.rotate(threshed,cv2.ROTATE_90_CLOCKWISE)\n",
    "\n",
    "    hist = cv2.reduce(threshed, 1, cv2.REDUCE_AVG).reshape(-1)\n",
    "#     print(hist)\n",
    "#     plt.plot(hist)\n",
    "    th = 2\n",
    "    upper,lower = continuousSubsequence(hist,th,5)\n",
    "    \n",
    "    return upper,lower\n",
    "\n",
    "def resize2_32(img):\n",
    "    maxInd = 0 if (img.shape[0] > img.shape[1]) else 1\n",
    "    fac = 32/img.shape[maxInd]\n",
    "    img = cv2.resize(img,(0,0),fx=fac,fy=fac)\n",
    "    if(img.shape[maxInd] != 32):\n",
    "        newSize = (32,img.shape[1]) if maxInd==0 else (img.shape[0],32)\n",
    "        img = cv2.resize(img,newSize)\n",
    "    delta_w = 32 - img.shape[1]\n",
    "    delta_h = 32 - img.shape[0]\n",
    "    top, bottom = delta_h//2, delta_h-(delta_h//2)\n",
    "    left, right = delta_w//2, delta_w-(delta_w//2)\n",
    "    \n",
    "#     print(\"Image Shape \" + str(img.shape))\n",
    "#     print(\"Margins \"+str((top,bottom,left,right)))\n",
    "    \n",
    "    if(len(img.shape)==3):\n",
    "        \n",
    "        if(top!=0 or bottom != 0):\n",
    "            b = np.expand_dims(np.ones((top,32),dtype='uint8')*back[0],axis=2)\n",
    "            g = np.expand_dims(np.ones((top,32),dtype='uint8')*back[1],axis=2)\n",
    "            r = np.expand_dims(np.ones((top,32),dtype='uint8')*back[2],axis=2)\n",
    "            im = np.concatenate((b,g),axis=2)\n",
    "            im = np.concatenate((im,r),axis=2)\n",
    "#             print(im.shape)\n",
    "\n",
    "            img = np.concatenate((im,img),axis=0)\n",
    "\n",
    "            b = np.expand_dims(np.ones((bottom,32),dtype='uint8')*back[0],axis=2)\n",
    "            g = np.expand_dims(np.ones((bottom,32),dtype='uint8')*back[1],axis=2)\n",
    "            r = np.expand_dims(np.ones((bottom,32),dtype='uint8')*back[2],axis=2)\n",
    "            im = np.concatenate((b,g),axis=2)\n",
    "            im = np.concatenate((im,r),axis=2)\n",
    "#             print(im.shape)\n",
    "            img = np.concatenate((img,im),axis=0)\n",
    "#             print(img.shape)\n",
    "        \n",
    "        elif(left!=0 or right != 0):\n",
    "            b = np.expand_dims(np.ones((32,left),dtype='uint8')*back[0],axis=2)\n",
    "            g = np.expand_dims(np.ones((32,left),dtype='uint8')*back[1],axis=2)\n",
    "            r = np.expand_dims(np.ones((32,left),dtype='uint8')*back[2],axis=2)\n",
    "            im = np.concatenate((b,g),axis=2)\n",
    "            im = np.concatenate((im,r),axis=2)\n",
    "#             print(im.shape)\n",
    "            \n",
    "            img = np.concatenate((im,img),axis=1)\n",
    "\n",
    "            b = np.expand_dims(np.ones((32,right),dtype='uint8')*back[0],axis=2)\n",
    "            g = np.expand_dims(np.ones((32,right),dtype='uint8')*back[1],axis=2)\n",
    "            r = np.expand_dims(np.ones((32,right),dtype='uint8')*back[2],axis=2)\n",
    "            im = np.concatenate((b,g),axis=2)\n",
    "            im = np.concatenate((im,r),axis=2)\n",
    "#             print(im.shape)\n",
    "            img = np.concatenate((img,im),axis=1)\n",
    "# #             print(img.shape)\n",
    "#         print(\"ORI\")\n",
    "#         print(img.shape)\n",
    "#         print()\n",
    "        return img\n",
    "    elif(len(img.shape)==2):\n",
    "        tmp = cv2.copyMakeBorder(img,top,bottom,left,right,cv2.BORDER_CONSTANT,0)\n",
    "#         print(\"BW\")\n",
    "        return tmp\n",
    "\n",
    "def makeCollage(ls):\n",
    "    length = 0\n",
    "    if(type(ls)=='np.ndarray'):\n",
    "        length = ls.shape[0]\n",
    "    else:\n",
    "        length = len(ls)\n",
    "    \n",
    "    col = math.floor(math.sqrt(length))\n",
    "    row = length//col\n",
    "    #print (row,col)\n",
    "    \n",
    "    res = ls[0]\n",
    "    for i in range(1,col):\n",
    "        res = np.concatenate((res,ls[i]),axis=1)\n",
    "      \n",
    "    for i in range(1,row):\n",
    "        temp = ls[i*col]\n",
    "        for j in range(1,col):\n",
    "#             print(temp.shape,ls[i*col+j].shape)\n",
    "            temp = np.concatenate((temp,ls[i*col+j]),axis=1)\n",
    "        res = np.concatenate((res,temp))\n",
    "    \n",
    "#     cv2.imshow(\"res\",res)\n",
    "#     cv2.waitKey(0)\n",
    "#     cv2.destroyAllWindows()\n",
    "    \n",
    "    rem = length - row*col\n",
    "    if(rem>0):\n",
    "        temp = ls[row*col]\n",
    "        for i in range(1,rem):\n",
    "            temp = np.concatenate((temp,ls[row*col+i]),axis=1)\n",
    "        \n",
    "        for j in range(rem,col):\n",
    "            tp = np.zeros(ls[1].shape,dtype=\"uint8\")\n",
    "            temp = np.concatenate((temp,tp),axis=1)\n",
    "        \n",
    "        res = np.concatenate((res,temp))\n",
    "    \n",
    "    return res\n",
    "\n",
    "def determineFsize(img):\n",
    "    global fSize\n",
    "    kernel = np.ones((3,3),np.uint8)\n",
    "    img = cv2.dilate(img,kernel,iterations=2)\n",
    "    img = cv2.blur(img,(3,3))\n",
    "    img = cv2.erode(img,kernel,iterations=2)\n",
    "    _,contours,_ = cv2.findContours(img,cv2.RETR_LIST,cv2.CHAIN_APPROX_SIMPLE)\n",
    "    for cnt in contours:\n",
    "        x,y,w,h = cv2.boundingRect(cnt)\n",
    "        if (h > 20):\n",
    "            fSize = [fSize[0]+1,(fSize[0]*fSize[1] + h)/(fSize[0]+1)]\n",
    "#             cv2.imshow(\"res\",cv2.rectangle(cv2.cvtColor(img,cv2.COLOR_GRAY2BGR),(x,y),(x+w,y+h),(0,255,0),1))\n",
    "#             cv2.waitKey(500)\n",
    "#             cv2.destroyAllWindows()\n",
    "\n",
    "def firstlevelSegment(img):\n",
    "    img = cv2.resize(img,(0,0),fx = 1.69, fy = 1.69)\n",
    "    gray, threshed, threshed_color = binaryImages(img)\n",
    "\n",
    "    # removing header line\n",
    "    (u,l),threshed = rmHeaderLine(threshed)\n",
    "    \n",
    "    # vertically seperating\n",
    "    lefts,rights = verticalSeperation(threshed,2)\n",
    "    \n",
    "    for i in range(0,len(lefts)):\n",
    "        determineFsize(threshed[int(l):img.shape[0],lefts[i]:rights[i]])\n",
    "       \n",
    "    return (u,l),lefts,rights\n",
    "\n",
    "def thirdLevelSegmentation(img,head,lt,rt):\n",
    "    img0 = cv2.resize(img[0],(0,0),fx=1.69,fy=1.69)\n",
    "    img1 = cv2.resize(img[1],(0,0),fx=1.69,fy=1.69)\n",
    "\n",
    "    _, threshed, threshed_color = binaryImages(img0)\n",
    "\n",
    "    lst = []\n",
    "    lst_ori = []\n",
    "    for i in range(0,len(lt)):\n",
    "        # lis = []\n",
    "        letter = threshed[:,lt[i]:rt[i]]\n",
    "        #letter = threshed\n",
    "        up = letter[:int(head[0])]\n",
    "        middle = letter[int(head[1]):int(head[1]+fSize[1]-4)]\n",
    "        below = letter[int(head[1]+fSize[1]-7):]\n",
    "        \n",
    "        letter_ori = img1[:,lt[i]:rt[i]]\n",
    "        up_ori = letter_ori[:int(head[0])]\n",
    "        middle_ori = letter_ori[int(head[1]):int(head[1]+fSize[1]-4)]\n",
    "        below_ori = letter_ori[int(head[1]+fSize[1]-7):]\n",
    "\n",
    "        if((np.sum(up)/255) > 25):\n",
    "            up = resize2_32(up)\n",
    "            up[:3,:3] = 255*np.ones((3,3))\n",
    "            lst.append(up)\n",
    "            up_ori = resize2_32(up_ori)\n",
    "            lst_ori.append(up_ori)\n",
    "#             cv2.imshow(\"up_bw\",up)\n",
    "#             cv2.imshow(\"up_ori\",up_ori)\n",
    "\n",
    "        middle = pad_image(middle,0)\n",
    "        middle_ori = pad_image(middle_ori,0)\n",
    "#         print(\"beforeResizing\")\n",
    "#         print(middle.shape,middle_ori.shape)\n",
    "        left,right = verticalSeperation(middle,20)\n",
    "        for n in range(0,len(left)):\n",
    "            lst.append(resize2_32(middle[:,left[n]:right[n]]))\n",
    "            lst_ori.append(resize2_32(middle_ori[:,left[n]:right[n]]))\n",
    "#             cv2.imshow(\"middle_bw\"+str(n),resize2_32(middle[:,left[n]:right[n]]))\n",
    "#             cv2.imshow(\"middle_ori\"+str(n),resize2_32(middle_ori[:,left[n]:right[n]]))\n",
    "            \n",
    "        if((np.sum(below)/255) > 125):\n",
    "            below = resize2_32(below)\n",
    "            below[-3:,:3] = 255*np.ones((3,3))\n",
    "            lst.append(below)\n",
    "            below_ori = resize2_32(below_ori)\n",
    "            lst_ori.append(below_ori)\n",
    "#             cv2.imshow(\"below_bw\",below)\n",
    "#             cv2.imshow(\"below_ori\",below_ori)\n",
    "            \n",
    "        cv2.waitKey(0)\n",
    "        cv2.destroyAllWindows()\n",
    "        \n",
    "    return (lst,lst_ori)\n",
    "\n",
    "\n",
    "def secondLevelSegmentation(img,up,dn):\n",
    "    img = cv2.resize(img,(0,0),fx = 1.69, fy = 1.69)\n",
    "    img = img[int(up):int(dn)]\n",
    "\n",
    "    gray, threshed, threshed_color = binaryImages(img)\n",
    "    lefts,rights = verticalSeperation(threshed,10)\n",
    "    \n",
    "    return lefts,rights"
   ]
  },
  {
   "cell_type": "code",
   "execution_count": 11,
   "metadata": {},
   "outputs": [],
   "source": [
    "def letterSegmentation(ls):\n",
    "    leftsLs = []\n",
    "    rightsLs = []\n",
    "    headerLs = []\n",
    "    \n",
    "    # First Level Segmentation\n",
    "    # getting coordinates for each letter, NECESSARY\n",
    "    for i in range(0,len(ls)):\n",
    "        img = ls[i][0]\n",
    "        head, left, right = firstlevelSegment(img)\n",
    "        leftsLs.append(left)\n",
    "        rightsLs.append(right)\n",
    "        headerLs.append(head)\n",
    "    print(fSize)\n",
    "    # Third Level Segmentation\n",
    "    letters = []\n",
    "    for i in range(0,len(ls)):\n",
    "        img = ls[i];\n",
    "        head = headerLs[i]\n",
    "        lt = leftsLs[i]\n",
    "        rt = rightsLs[i]\n",
    "        letters.append(thirdLevelSegmentation(img,head,lt,rt))\n",
    "\n",
    "#      Second Level Segmentation\n",
    "    del leftsLs,rightsLs\n",
    "    leftsLs = []\n",
    "    rightsLs = []\n",
    "    for i in range(0,len(ls)):\n",
    "        img = ls[i][0]\n",
    "        up = headerLs[i][1]\n",
    "        dn = up + fSize[1]-4\n",
    "        lt,rt = secondLevelSegmentation(img,up,dn)\n",
    "        leftsLs.append(lt)\n",
    "        rightsLs.append(rt)\n",
    "    \n",
    "    return leftsLs,rightsLs,headerLs,np.asarray(letters)"
   ]
  },
  {
   "cell_type": "code",
   "execution_count": 12,
   "metadata": {},
   "outputs": [
    {
     "name": "stdout",
     "output_type": "stream",
     "text": [
      "[156, 41.00641025641028]\n"
     ]
    }
   ],
   "source": [
    "leftsLs,rightsLs,headerLs,ls = letterSegmentation(words)"
   ]
  },
  {
   "cell_type": "code",
   "execution_count": 13,
   "metadata": {},
   "outputs": [
    {
     "data": {
      "text/plain": [
       "36"
      ]
     },
     "execution_count": 13,
     "metadata": {},
     "output_type": "execute_result"
    }
   ],
   "source": [
    "len(words)"
   ]
  },
  {
   "cell_type": "code",
   "execution_count": 13,
   "metadata": {},
   "outputs": [],
   "source": [
    "# Showing Boundaries\n",
    "copy = np.copy(ori)\n",
    "for i in range(0,len(words)):\n",
    "    point = result[i]\n",
    "    img = copy[point[0]:point[1],point[2]:point[3]]\n",
    "    img = cv2.resize(img,(0,0),fx=1.69,fy=1.69)\n",
    "    cv2.line(img,(0,int(headerLs[i][1]+fSize[1]-4)),(img.shape[1],int(headerLs[i][1]+fSize[1]-4)),(0,255,0),3)\n",
    "    cv2.line(img,(0,int((headerLs[i][0]+headerLs[i][1])/2)),(img.shape[1],int((headerLs[i][0]+headerLs[i][1])/2)),(0,255,0),3)\n",
    "    for j in range(0,len(leftsLs[i])):\n",
    "        cv2.line(img,(leftsLs[i][j],int((headerLs[i][0]+headerLs[i][1])/2)),(leftsLs[i][j],int(headerLs[i][1]+fSize[1]-2)),(0,0,255),2)\n",
    "        cv2.line(img,(rightsLs[i][j],int((headerLs[i][0]+headerLs[i][1])/2)),(rightsLs[i][j],int(headerLs[i][1]+fSize[1]-2)),(255,0,0),2)\n",
    "    img = cv2.resize(img,(point[3]-point[2],point[1]-point[0]))\n",
    "    copy[point[0]:point[1],point[2]:point[3]] = img\n",
    "\n",
    "cv2.imshow(\"res\",copy)\n",
    "cv2.waitKey(0)\n",
    "cv2.destroyAllWindows()"
   ]
  },
  {
   "cell_type": "code",
   "execution_count": null,
   "metadata": {},
   "outputs": [],
   "source": []
  },
  {
   "cell_type": "code",
   "execution_count": null,
   "metadata": {},
   "outputs": [],
   "source": [
    "for word in ls[0:10]:\n",
    "    for lt in word[1]:\n",
    "        if(np.array_equal(lt[:3,:3],255*np.ones((3,3)))):    # condition for upper\n",
    "            cv2.imshow('upper',lt)\n",
    "            cv2.waitKey(0)\n",
    "            cv2.destroyAllWindows()\n",
    "        elif(np.array_equal(lt[-3:,:3],255*np.ones((3,3)))): # condition for lower\n",
    "            cv2.imshow('lower',lt)\n",
    "            cv2.waitKey(0)\n",
    "            cv2.destroyAllWindows()\n",
    "        else:                                                # condition for middle\n",
    "            cv2.imshow('middle',lt) \n",
    "            cv2.waitKey(0)\n",
    "            cv2.destroyAllWindows()"
   ]
  },
  {
   "cell_type": "code",
   "execution_count": null,
   "metadata": {},
   "outputs": [],
   "source": [
    "letters = []\n",
    "for word in ls:\n",
    "    for lt in word[1]:\n",
    "        letters.append(lt)\n",
    "res = makeCollage(letters)\n",
    "cv2.imshow(\"res\",res)\n",
    "cv2.waitKey(0)\n",
    "cv2.destroyAllWindows()"
   ]
  },
  {
   "cell_type": "code",
   "execution_count": null,
   "metadata": {},
   "outputs": [],
   "source": []
  },
  {
   "cell_type": "code",
   "execution_count": 14,
   "metadata": {},
   "outputs": [],
   "source": [
    "BW = []\n",
    "for word in ls:\n",
    "    temp = [lt for lt in word[0]]\n",
    "    BW.append(temp)"
   ]
  },
  {
   "cell_type": "code",
   "execution_count": 20,
   "metadata": {},
   "outputs": [],
   "source": [
    "COL = []\n",
    "for word in ls:\n",
    "    temp = [lt for lt in word[0]]\n",
    "    COL.append(temp)"
   ]
  },
  {
   "cell_type": "code",
   "execution_count": null,
   "metadata": {},
   "outputs": [],
   "source": [
    "np.save(\"BW\",BW)\n",
    "np.save(\"COL\",BW)"
   ]
  },
  {
   "cell_type": "code",
   "execution_count": 19,
   "metadata": {},
   "outputs": [
    {
     "data": {
      "text/plain": [
       "(32, 32)"
      ]
     },
     "execution_count": 19,
     "metadata": {},
     "output_type": "execute_result"
    }
   ],
   "source": [
    "c[0][0].shape"
   ]
  },
  {
   "cell_type": "code",
   "execution_count": null,
   "metadata": {},
   "outputs": [],
   "source": []
  },
  {
   "cell_type": "code",
   "execution_count": null,
   "metadata": {},
   "outputs": [],
   "source": []
  },
  {
   "cell_type": "code",
   "execution_count": null,
   "metadata": {},
   "outputs": [],
   "source": []
  },
  {
   "cell_type": "code",
   "execution_count": null,
   "metadata": {},
   "outputs": [],
   "source": [
    "'''\n",
    "Final result which is to be predicted is Letters.\n",
    "Ist dimension is Number of words in input paragraph\n",
    "2nd dimension are Black and white images of letters or modifiers to predicted\n",
    "'''"
   ]
  },
  {
   "cell_type": "code",
   "execution_count": null,
   "metadata": {},
   "outputs": [],
   "source": []
  },
  {
   "cell_type": "code",
   "execution_count": null,
   "metadata": {},
   "outputs": [],
   "source": []
  },
  {
   "cell_type": "code",
   "execution_count": null,
   "metadata": {},
   "outputs": [],
   "source": []
  },
  {
   "cell_type": "code",
   "execution_count": null,
   "metadata": {},
   "outputs": [],
   "source": []
  },
  {
   "cell_type": "code",
   "execution_count": null,
   "metadata": {},
   "outputs": [],
   "source": [
    "'''Run code which is above this comment, as work in progress is there for below code'''"
   ]
  },
  {
   "cell_type": "markdown",
   "metadata": {},
   "source": [
    "## Resizing of letters to (32,32)"
   ]
  },
  {
   "cell_type": "code",
   "execution_count": 18,
   "metadata": {},
   "outputs": [],
   "source": [
    "lst = []\n",
    "#ori = cv2.resize(ori,(0,0),fx=1.69,fy=1.69)\n",
    "words = [cv2.resize(ori[point[0]:point[1],point[2]:point[3]],(0,0),fx=1.69,fy=1.69) for point in result]"
   ]
  },
  {
   "cell_type": "code",
   "execution_count": 19,
   "metadata": {},
   "outputs": [],
   "source": [
    "for i in range(0,len(words)):\n",
    "    img = words[i]\n",
    "    for j in range(0,len(leftsLs[i])):\n",
    "        tmp = img[:,leftsLs[i][j]-2:rightsLs[i][j]+2]\n",
    "        lst.append(resize2_32(tmp))"
   ]
  },
  {
   "cell_type": "code",
   "execution_count": 20,
   "metadata": {},
   "outputs": [],
   "source": [
    "for img in lst[0:10]:\n",
    "    cv2.imshow(\"res\",img)\n",
    "    cv2.waitKey(1000)\n",
    "    cv2.destroyAllWindows()"
   ]
  },
  {
   "cell_type": "code",
   "execution_count": 21,
   "metadata": {
    "scrolled": true
   },
   "outputs": [],
   "source": [
    "res = makeCollage(lst)\n",
    "cv2.imshow(\"res\",res)\n",
    "cv2.waitKey(0)\n",
    "cv2.destroyAllWindows()"
   ]
  },
  {
   "cell_type": "code",
   "execution_count": null,
   "metadata": {},
   "outputs": [],
   "source": []
  },
  {
   "cell_type": "code",
   "execution_count": null,
   "metadata": {},
   "outputs": [],
   "source": []
  },
  {
   "cell_type": "code",
   "execution_count": null,
   "metadata": {},
   "outputs": [],
   "source": []
  },
  {
   "cell_type": "code",
   "execution_count": null,
   "metadata": {},
   "outputs": [],
   "source": []
  },
  {
   "cell_type": "markdown",
   "metadata": {},
   "source": [
    "# Predicting Each Letter and Modifier"
   ]
  },
  {
   "cell_type": "code",
   "execution_count": null,
   "metadata": {},
   "outputs": [],
   "source": [
    "from keras.models import Sequential\n",
    "from keras.layers import Conv2D\n",
    "from keras.layers import MaxPooling2D\n",
    "from keras.layers import Flatten\n",
    "from keras.layers import Dense\n",
    "from keras.models import model_from_json\n",
    "from keras import optimizers\n",
    "from keras.preprocessing import image\n",
    "from keras.utils import plot_model\n",
    "from keras.preprocessing.image import ImageDataGenerator\n",
    "import numpy as np\n",
    "import os\n",
    "import random\n",
    "import cv2\n",
    "from keras.utils import to_categorical\n"
   ]
  },
  {
   "cell_type": "code",
   "execution_count": null,
   "metadata": {},
   "outputs": [],
   "source": [
    "encoding = np.load('./Data/encodingDict600.npy').item()\n",
    "\n",
    "json_file = open('./Data/model.json', 'r')\n",
    "loaded_model_json = json_file.read()\n",
    "json_file.close()\n",
    "model = model_from_json(loaded_model_json)\n",
    "# load weights into new model\n",
    "model.load_weights(\"./Data/model.h5\")\n",
    "print(\"Loaded model from disk\")\n",
    "\n",
    "model.compile(optimizer = 'adam', loss = 'categorical_crossentropy', metrics = ['accuracy'] )\n",
    "model.summary()\n"
   ]
  },
  {
   "cell_type": "code",
   "execution_count": null,
   "metadata": {
    "scrolled": true
   },
   "outputs": [],
   "source": [
    "for img in letters:\n",
    "    img = np.expand_dims(img,axis=0)\n",
    "    cl = model.predict_classes(img/255)\n",
    "    cv2.imshow(encoding[str(cl[0])],img[0])\n",
    "    cv2.waitKey(0)\n",
    "    cv2.destroyAllWindows()"
   ]
  },
  {
   "cell_type": "code",
   "execution_count": null,
   "metadata": {},
   "outputs": [],
   "source": [
    "# for word in ls:\n",
    "#     for img in word:\n",
    "#         #img = cv2.cvtColor(img,cv2.COLOR_GRAY2BGR)\n",
    "#         img = np.expand_dims(img,axis=2)\n",
    "#         img = np.expand_dims(img,axis=0)\n",
    "#         cl = model.predict_classes(img/255)\n",
    "#         cv2.imshow(encoding[str(cl[0])],img[0])\n",
    "#         cv2.waitKey(0)\n",
    "#         cv2.destroyAllWindows()"
   ]
  },
  {
   "cell_type": "code",
   "execution_count": null,
   "metadata": {},
   "outputs": [],
   "source": []
  },
  {
   "cell_type": "code",
   "execution_count": null,
   "metadata": {},
   "outputs": [],
   "source": []
  },
  {
   "cell_type": "code",
   "execution_count": null,
   "metadata": {},
   "outputs": [],
   "source": []
  },
  {
   "cell_type": "code",
   "execution_count": null,
   "metadata": {},
   "outputs": [],
   "source": []
  },
  {
   "cell_type": "code",
   "execution_count": null,
   "metadata": {},
   "outputs": [],
   "source": []
  },
  {
   "cell_type": "code",
   "execution_count": null,
   "metadata": {},
   "outputs": [],
   "source": []
  },
  {
   "cell_type": "code",
   "execution_count": null,
   "metadata": {},
   "outputs": [],
   "source": []
  },
  {
   "cell_type": "code",
   "execution_count": null,
   "metadata": {},
   "outputs": [],
   "source": []
  }
 ],
 "metadata": {
  "kernelspec": {
   "display_name": "Python 3",
   "language": "python",
   "name": "python3"
  },
  "language_info": {
   "codemirror_mode": {
    "name": "ipython",
    "version": 3
   },
   "file_extension": ".py",
   "mimetype": "text/x-python",
   "name": "python",
   "nbconvert_exporter": "python",
   "pygments_lexer": "ipython3",
   "version": "3.5.6"
  }
 },
 "nbformat": 4,
 "nbformat_minor": 2
}
